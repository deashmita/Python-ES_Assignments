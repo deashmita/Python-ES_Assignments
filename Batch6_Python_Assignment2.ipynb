{
  "nbformat": 4,
  "nbformat_minor": 0,
  "metadata": {
    "colab": {
      "name": "Batch6_Python_Assignment2.ipynb",
      "provenance": [],
      "collapsed_sections": [
        "d7vuJ4mTkldq"
      ],
      "toc_visible": true
    },
    "kernelspec": {
      "name": "python3",
      "display_name": "Python 3"
    }
  },
  "cells": [
    {
      "cell_type": "markdown",
      "metadata": {
        "id": "d7vuJ4mTkldq",
        "colab_type": "text"
      },
      "source": [
        "# Basic Python Syantax"
      ]
    },
    {
      "cell_type": "markdown",
      "metadata": {
        "id": "uJDyOKN2lFap",
        "colab_type": "text"
      },
      "source": [
        "**Back Slash**"
      ]
    },
    {
      "cell_type": "code",
      "metadata": {
        "id": "tQ8S2YciksXR",
        "colab_type": "code",
        "colab": {
          "base_uri": "https://localhost:8080/",
          "height": 34
        },
        "outputId": "eb9f6ab8-72c4-48e2-d098-4d6d923c8bea"
      },
      "source": [
        "print(\"Hello \\\n",
        "Python\")"
      ],
      "execution_count": null,
      "outputs": [
        {
          "output_type": "stream",
          "text": [
            "Hello Python\n"
          ],
          "name": "stdout"
        }
      ]
    },
    {
      "cell_type": "markdown",
      "metadata": {
        "id": "_3HmHBBRlUGd",
        "colab_type": "text"
      },
      "source": [
        "**Triple Quotes**"
      ]
    },
    {
      "cell_type": "code",
      "metadata": {
        "id": "Wmdm0nqulSF8",
        "colab_type": "code",
        "colab": {
          "base_uri": "https://localhost:8080/",
          "height": 238
        },
        "outputId": "3d1de5c0-a136-426a-bc9d-4888b0273804"
      },
      "source": [
        "print(\"\"\"   _( )__ _( )__ _( )__ _( )__ _( )__ _( )__ _( )__\n",
        " _|     _|     _|     _|     _|     _|     _|     _|\n",
        "(_   _ (_   _ (_   _ (_   _ (_   _ (_   _ (_   _ (_\n",
        " |__( )_|__( )_|__( )_|__( )_|__( )_|__( )_|__( )_|\n",
        " |_     |_     |_     |_     |_     |_     |_     |_\n",
        "  _) _   _) _   _) _   _) _   _) _   _) _   _) _   _)\n",
        " |__( )_|__( )_|__( )_|__( )_|__( )_|__( )_|__( )_|\n",
        " _|     _|     _|     _|     _|     _|     _|     _|\n",
        "(_   _ (_   _ (_   _ (_   _ (_   _ (_   _ (_   _ (_\n",
        " |__( )_|__( )_|__( )_|__( )_|__( )_|__( )_|__( )_|\n",
        " |_     |_     |_     |_     |_     |_     |_     |_\n",
        "  _) _   _) _   _) _   _) _   _) _   _) _   _) _mx _)\n",
        " |__( )_|__( )_|__( )_|__( )_|__( )_|__( )_|__( )_|\"\"\")"
      ],
      "execution_count": null,
      "outputs": [
        {
          "output_type": "stream",
          "text": [
            "   _( )__ _( )__ _( )__ _( )__ _( )__ _( )__ _( )__\n",
            " _|     _|     _|     _|     _|     _|     _|     _|\n",
            "(_   _ (_   _ (_   _ (_   _ (_   _ (_   _ (_   _ (_\n",
            " |__( )_|__( )_|__( )_|__( )_|__( )_|__( )_|__( )_|\n",
            " |_     |_     |_     |_     |_     |_     |_     |_\n",
            "  _) _   _) _   _) _   _) _   _) _   _) _   _) _   _)\n",
            " |__( )_|__( )_|__( )_|__( )_|__( )_|__( )_|__( )_|\n",
            " _|     _|     _|     _|     _|     _|     _|     _|\n",
            "(_   _ (_   _ (_   _ (_   _ (_   _ (_   _ (_   _ (_\n",
            " |__( )_|__( )_|__( )_|__( )_|__( )_|__( )_|__( )_|\n",
            " |_     |_     |_     |_     |_     |_     |_     |_\n",
            "  _) _   _) _   _) _   _) _   _) _   _) _   _) _mx _)\n",
            " |__( )_|__( )_|__( )_|__( )_|__( )_|__( )_|__( )_|\n"
          ],
          "name": "stdout"
        }
      ]
    },
    {
      "cell_type": "markdown",
      "metadata": {
        "id": "mIq_nOgQl4hq",
        "colab_type": "text"
      },
      "source": [
        "**String inside the quotes**"
      ]
    },
    {
      "cell_type": "code",
      "metadata": {
        "id": "z4NvHhQMl2fU",
        "colab_type": "code",
        "colab": {
          "base_uri": "https://localhost:8080/",
          "height": 34
        },
        "outputId": "07eb8938-5899-485d-a80e-8464da0a3e35"
      },
      "source": [
        "print('Hello Python')"
      ],
      "execution_count": null,
      "outputs": [
        {
          "output_type": "stream",
          "text": [
            "Hello Python\n"
          ],
          "name": "stdout"
        }
      ]
    },
    {
      "cell_type": "code",
      "metadata": {
        "id": "YCSv2LWxmFOn",
        "colab_type": "code",
        "colab": {
          "base_uri": "https://localhost:8080/",
          "height": 129
        },
        "outputId": "24c117d1-aebe-465b-967f-d1735b537823"
      },
      "source": [
        "print('Python's world')"
      ],
      "execution_count": null,
      "outputs": [
        {
          "output_type": "error",
          "ename": "SyntaxError",
          "evalue": "ignored",
          "traceback": [
            "\u001b[0;36m  File \u001b[0;32m\"<ipython-input-11-98b624cce3c5>\"\u001b[0;36m, line \u001b[0;32m1\u001b[0m\n\u001b[0;31m    print('Python's world')\u001b[0m\n\u001b[0m                  ^\u001b[0m\n\u001b[0;31mSyntaxError\u001b[0m\u001b[0;31m:\u001b[0m invalid syntax\n"
          ]
        }
      ]
    },
    {
      "cell_type": "code",
      "metadata": {
        "id": "zAfpXcLZmMGU",
        "colab_type": "code",
        "colab": {
          "base_uri": "https://localhost:8080/",
          "height": 34
        },
        "outputId": "9cf456b7-e520-4dd1-b54c-70cddf17c983"
      },
      "source": [
        "print(\"Pyhton's World\")"
      ],
      "execution_count": null,
      "outputs": [
        {
          "output_type": "stream",
          "text": [
            "Pyhton's World\n"
          ],
          "name": "stdout"
        }
      ]
    },
    {
      "cell_type": "markdown",
      "metadata": {
        "id": "PZ_SzXffmUGi",
        "colab_type": "text"
      },
      "source": [
        "**Escape Sequence of String**"
      ]
    },
    {
      "cell_type": "code",
      "metadata": {
        "id": "89IRJweWmVoL",
        "colab_type": "code",
        "colab": {
          "base_uri": "https://localhost:8080/",
          "height": 34
        },
        "outputId": "f6b9d833-db72-44af-859f-0ac1a0dbd281"
      },
      "source": [
        "print(\"Hello\\tPython\")"
      ],
      "execution_count": null,
      "outputs": [
        {
          "output_type": "stream",
          "text": [
            "Hello\tPython\n"
          ],
          "name": "stdout"
        }
      ]
    },
    {
      "cell_type": "code",
      "metadata": {
        "id": "9jbGcM4WmjPT",
        "colab_type": "code",
        "colab": {
          "base_uri": "https://localhost:8080/",
          "height": 51
        },
        "outputId": "8548cd49-4629-4e64-b85e-4889d6f8c801"
      },
      "source": [
        "print(\"Hello\\nPython\")"
      ],
      "execution_count": null,
      "outputs": [
        {
          "output_type": "stream",
          "text": [
            "Hello\n",
            "Python\n"
          ],
          "name": "stdout"
        }
      ]
    },
    {
      "cell_type": "code",
      "metadata": {
        "id": "gbgsfbD7mm8c",
        "colab_type": "code",
        "colab": {
          "base_uri": "https://localhost:8080/",
          "height": 34
        },
        "outputId": "90441394-fdc5-4dc0-c19b-349bb675fe5e"
      },
      "source": [
        "print('Python\\'s World')"
      ],
      "execution_count": null,
      "outputs": [
        {
          "output_type": "stream",
          "text": [
            "Python's World\n"
          ],
          "name": "stdout"
        }
      ]
    },
    {
      "cell_type": "markdown",
      "metadata": {
        "id": "kyTFa-72m2eW",
        "colab_type": "text"
      },
      "source": [
        "**Formatted Output **"
      ]
    },
    {
      "cell_type": "code",
      "metadata": {
        "id": "IbP6crMImscz",
        "colab_type": "code",
        "colab": {
          "base_uri": "https://localhost:8080/",
          "height": 34
        },
        "outputId": "19755077-969c-4b5e-dbec-f1e56a1888d3"
      },
      "source": [
        "name=\"XYZ\"\n",
        "marks=90.867\n",
        "age=20\n",
        "\n",
        "print(\"The name of person is\",name,\"marks obtained by him is\",marks,\"and his age is\",age)"
      ],
      "execution_count": null,
      "outputs": [
        {
          "output_type": "stream",
          "text": [
            "The name of person is XYZ marks obtained by him is 90.867 and his age is 20\n"
          ],
          "name": "stdout"
        }
      ]
    },
    {
      "cell_type": "code",
      "metadata": {
        "id": "sGn1q0CeravM",
        "colab_type": "code",
        "colab": {
          "base_uri": "https://localhost:8080/",
          "height": 34
        },
        "outputId": "15e1615e-5d65-48d3-e226-8c8eeeaa116d"
      },
      "source": [
        "print(\"the name of the person is %s marks obtained by him is %.2f age is %d\"%(name,marks,age))"
      ],
      "execution_count": null,
      "outputs": [
        {
          "output_type": "stream",
          "text": [
            "the name of the person is XYZ marks obtained by him is 90.87 age is 20\n"
          ],
          "name": "stdout"
        }
      ]
    },
    {
      "cell_type": "code",
      "metadata": {
        "id": "M80sluE2nqyK",
        "colab_type": "code",
        "colab": {
          "base_uri": "https://localhost:8080/",
          "height": 34
        },
        "outputId": "141d7209-0cf1-41e4-ead0-6445ffa633b8"
      },
      "source": [
        "print(\"The name of person is %s and his age is %d\"%(name,age));"
      ],
      "execution_count": null,
      "outputs": [
        {
          "output_type": "stream",
          "text": [
            "The name of person is XYZ and his age is 20\n"
          ],
          "name": "stdout"
        }
      ]
    },
    {
      "cell_type": "code",
      "metadata": {
        "id": "TYmIGLTGoUHo",
        "colab_type": "code",
        "colab": {
          "base_uri": "https://localhost:8080/",
          "height": 34
        },
        "outputId": "925b2dc2-731e-42d9-fce9-1bcc1a0a7c4c"
      },
      "source": [
        "print(\"The name of the person is %5s and the marks obtained by him is %5.2f\"%(name,marks))"
      ],
      "execution_count": null,
      "outputs": [
        {
          "output_type": "stream",
          "text": [
            "The name of the person is   XYZ and the marks obtained by him is 90.87\n"
          ],
          "name": "stdout"
        }
      ]
    },
    {
      "cell_type": "markdown",
      "metadata": {
        "id": "IKHcbSzTrz2b",
        "colab_type": "text"
      },
      "source": [
        "**f string(to replace %s,%f,%d)**"
      ]
    },
    {
      "cell_type": "code",
      "metadata": {
        "id": "6Hhj1SQGrRZ-",
        "colab_type": "code",
        "colab": {
          "base_uri": "https://localhost:8080/",
          "height": 34
        },
        "outputId": "c4deb2a6-1354-44cf-9568-346d836b2a25"
      },
      "source": [
        "print(f\"The name of person is {name} marks obtained by him is {marks} and his age is {age}\")"
      ],
      "execution_count": null,
      "outputs": [
        {
          "output_type": "stream",
          "text": [
            "The name of person is XYZ marks obtained by him is 90.867 and his age is 20\n"
          ],
          "name": "stdout"
        }
      ]
    },
    {
      "cell_type": "markdown",
      "metadata": {
        "id": "Tpq5Q3v1sWAk",
        "colab_type": "text"
      },
      "source": [
        "**Python Variables and Assignment Statement**"
      ]
    },
    {
      "cell_type": "code",
      "metadata": {
        "id": "PfpMrNzJsIiJ",
        "colab_type": "code",
        "colab": {
          "base_uri": "https://localhost:8080/",
          "height": 129
        },
        "outputId": "99fde74b-06ef-4ff6-9e9d-59d3f3d2dec1"
      },
      "source": [
        "10a=20"
      ],
      "execution_count": null,
      "outputs": [
        {
          "output_type": "error",
          "ename": "SyntaxError",
          "evalue": "ignored",
          "traceback": [
            "\u001b[0;36m  File \u001b[0;32m\"<ipython-input-48-3b2001ca9f41>\"\u001b[0;36m, line \u001b[0;32m1\u001b[0m\n\u001b[0;31m    10a=20\u001b[0m\n\u001b[0m      ^\u001b[0m\n\u001b[0;31mSyntaxError\u001b[0m\u001b[0;31m:\u001b[0m invalid syntax\n"
          ]
        }
      ]
    },
    {
      "cell_type": "code",
      "metadata": {
        "id": "1DuCRc96sqdC",
        "colab_type": "code",
        "colab": {}
      },
      "source": [
        "a10=20"
      ],
      "execution_count": null,
      "outputs": []
    },
    {
      "cell_type": "code",
      "metadata": {
        "id": "IyNtgk-LstK4",
        "colab_type": "code",
        "colab": {
          "base_uri": "https://localhost:8080/",
          "height": 34
        },
        "outputId": "3fdab3df-12c3-42b1-aa74-5e97d7bd67ef"
      },
      "source": [
        "print(a10)"
      ],
      "execution_count": null,
      "outputs": [
        {
          "output_type": "stream",
          "text": [
            "20\n"
          ],
          "name": "stdout"
        }
      ]
    },
    {
      "cell_type": "code",
      "metadata": {
        "id": "qRu6bcl3sxR3",
        "colab_type": "code",
        "colab": {
          "base_uri": "https://localhost:8080/",
          "height": 129
        },
        "outputId": "6150a391-330e-49e8-b0a5-b436b5a72760"
      },
      "source": [
        "if=10"
      ],
      "execution_count": null,
      "outputs": [
        {
          "output_type": "error",
          "ename": "SyntaxError",
          "evalue": "ignored",
          "traceback": [
            "\u001b[0;36m  File \u001b[0;32m\"<ipython-input-51-d804dbd42c9d>\"\u001b[0;36m, line \u001b[0;32m1\u001b[0m\n\u001b[0;31m    if=10\u001b[0m\n\u001b[0m      ^\u001b[0m\n\u001b[0;31mSyntaxError\u001b[0m\u001b[0;31m:\u001b[0m invalid syntax\n"
          ]
        }
      ]
    },
    {
      "cell_type": "code",
      "metadata": {
        "id": "uAkYUdT6s0az",
        "colab_type": "code",
        "colab": {}
      },
      "source": [
        "ifI=10"
      ],
      "execution_count": null,
      "outputs": []
    },
    {
      "cell_type": "code",
      "metadata": {
        "id": "c4wiDfPLs3BM",
        "colab_type": "code",
        "colab": {
          "base_uri": "https://localhost:8080/",
          "height": 34
        },
        "outputId": "4cf5864b-77c1-4dcc-9ef4-27093fbf373c"
      },
      "source": [
        "print(ifI)"
      ],
      "execution_count": null,
      "outputs": [
        {
          "output_type": "stream",
          "text": [
            "10\n"
          ],
          "name": "stdout"
        }
      ]
    },
    {
      "cell_type": "code",
      "metadata": {
        "id": "fVCb4al-s5Ay",
        "colab_type": "code",
        "colab": {
          "base_uri": "https://localhost:8080/",
          "height": 34
        },
        "outputId": "3f8868ed-ca41-45ea-fcea-375e53275a48"
      },
      "source": [
        "#Python Assignment Statement\n",
        "x=y=z=10\n",
        "print(x)"
      ],
      "execution_count": null,
      "outputs": [
        {
          "output_type": "stream",
          "text": [
            "10\n"
          ],
          "name": "stdout"
        }
      ]
    },
    {
      "cell_type": "code",
      "metadata": {
        "id": "c0dx02QiuGBp",
        "colab_type": "code",
        "colab": {
          "base_uri": "https://localhost:8080/",
          "height": 34
        },
        "outputId": "c11ec43e-d6af-4027-8fb5-f6bd24e393c5"
      },
      "source": [
        "print(y)"
      ],
      "execution_count": null,
      "outputs": [
        {
          "output_type": "stream",
          "text": [
            "10\n"
          ],
          "name": "stdout"
        }
      ]
    },
    {
      "cell_type": "code",
      "metadata": {
        "id": "uXk1cBC5uIW3",
        "colab_type": "code",
        "colab": {
          "base_uri": "https://localhost:8080/",
          "height": 34
        },
        "outputId": "aa904f8f-dc19-4f89-f63a-08ff4b8435c7"
      },
      "source": [
        "print(z)"
      ],
      "execution_count": null,
      "outputs": [
        {
          "output_type": "stream",
          "text": [
            "10\n"
          ],
          "name": "stdout"
        }
      ]
    },
    {
      "cell_type": "code",
      "metadata": {
        "id": "nNJ0J1UDuKPl",
        "colab_type": "code",
        "colab": {}
      },
      "source": [
        "del x"
      ],
      "execution_count": null,
      "outputs": []
    },
    {
      "cell_type": "code",
      "metadata": {
        "id": "efvoWdhPuQbW",
        "colab_type": "code",
        "colab": {}
      },
      "source": [
        "del y"
      ],
      "execution_count": null,
      "outputs": []
    },
    {
      "cell_type": "code",
      "metadata": {
        "id": "vdPOiywauSEf",
        "colab_type": "code",
        "colab": {}
      },
      "source": [
        "del z"
      ],
      "execution_count": null,
      "outputs": []
    },
    {
      "cell_type": "code",
      "metadata": {
        "id": "Tjqy8gGduTrE",
        "colab_type": "code",
        "colab": {
          "base_uri": "https://localhost:8080/",
          "height": 163
        },
        "outputId": "39ffdf9a-e974-41a6-8d0f-fbc8dc7375ca"
      },
      "source": [
        "print(x)"
      ],
      "execution_count": null,
      "outputs": [
        {
          "output_type": "error",
          "ename": "NameError",
          "evalue": "ignored",
          "traceback": [
            "\u001b[0;31m---------------------------------------------------------------------------\u001b[0m",
            "\u001b[0;31mNameError\u001b[0m                                 Traceback (most recent call last)",
            "\u001b[0;32m<ipython-input-60-fc17d851ef81>\u001b[0m in \u001b[0;36m<module>\u001b[0;34m()\u001b[0m\n\u001b[0;32m----> 1\u001b[0;31m \u001b[0mprint\u001b[0m\u001b[0;34m(\u001b[0m\u001b[0mx\u001b[0m\u001b[0;34m)\u001b[0m\u001b[0;34m\u001b[0m\u001b[0;34m\u001b[0m\u001b[0m\n\u001b[0m",
            "\u001b[0;31mNameError\u001b[0m: name 'x' is not defined"
          ]
        }
      ]
    },
    {
      "cell_type": "code",
      "metadata": {
        "id": "i7A6-eGzuVrx",
        "colab_type": "code",
        "colab": {
          "base_uri": "https://localhost:8080/",
          "height": 34
        },
        "outputId": "1b061a21-8fb9-490c-99bf-466043223887"
      },
      "source": [
        "x=30\n",
        "y=30\n",
        "id(x)"
      ],
      "execution_count": null,
      "outputs": [
        {
          "output_type": "execute_result",
          "data": {
            "text/plain": [
              "10915424"
            ]
          },
          "metadata": {
            "tags": []
          },
          "execution_count": 61
        }
      ]
    },
    {
      "cell_type": "code",
      "metadata": {
        "id": "rhbR3iF5ucIL",
        "colab_type": "code",
        "colab": {
          "base_uri": "https://localhost:8080/",
          "height": 34
        },
        "outputId": "e2f83db0-20a0-4efb-f057-1bc203b8ee39"
      },
      "source": [
        "id(y)"
      ],
      "execution_count": null,
      "outputs": [
        {
          "output_type": "execute_result",
          "data": {
            "text/plain": [
              "10915424"
            ]
          },
          "metadata": {
            "tags": []
          },
          "execution_count": 62
        }
      ]
    },
    {
      "cell_type": "code",
      "metadata": {
        "id": "cs4HlO7Gudsx",
        "colab_type": "code",
        "colab": {}
      },
      "source": [
        "del x"
      ],
      "execution_count": null,
      "outputs": []
    },
    {
      "cell_type": "code",
      "metadata": {
        "id": "WSPhL0BdukO5",
        "colab_type": "code",
        "colab": {
          "base_uri": "https://localhost:8080/",
          "height": 163
        },
        "outputId": "d8e61db3-5959-402e-f036-44ae64612250"
      },
      "source": [
        "id(x)"
      ],
      "execution_count": null,
      "outputs": [
        {
          "output_type": "error",
          "ename": "NameError",
          "evalue": "ignored",
          "traceback": [
            "\u001b[0;31m---------------------------------------------------------------------------\u001b[0m",
            "\u001b[0;31mNameError\u001b[0m                                 Traceback (most recent call last)",
            "\u001b[0;32m<ipython-input-64-e3f71ffdf578>\u001b[0m in \u001b[0;36m<module>\u001b[0;34m()\u001b[0m\n\u001b[0;32m----> 1\u001b[0;31m \u001b[0mid\u001b[0m\u001b[0;34m(\u001b[0m\u001b[0mx\u001b[0m\u001b[0;34m)\u001b[0m\u001b[0;34m\u001b[0m\u001b[0;34m\u001b[0m\u001b[0m\n\u001b[0m",
            "\u001b[0;31mNameError\u001b[0m: name 'x' is not defined"
          ]
        }
      ]
    },
    {
      "cell_type": "code",
      "metadata": {
        "id": "69RayBKtumGv",
        "colab_type": "code",
        "colab": {
          "base_uri": "https://localhost:8080/",
          "height": 34
        },
        "outputId": "16473248-afa8-4250-8a13-a62b3b81cf09"
      },
      "source": [
        "id(y)"
      ],
      "execution_count": null,
      "outputs": [
        {
          "output_type": "execute_result",
          "data": {
            "text/plain": [
              "10915424"
            ]
          },
          "metadata": {
            "tags": []
          },
          "execution_count": 65
        }
      ]
    },
    {
      "cell_type": "code",
      "metadata": {
        "id": "1JOjK5t9un3l",
        "colab_type": "code",
        "colab": {}
      },
      "source": [
        "del y"
      ],
      "execution_count": null,
      "outputs": []
    },
    {
      "cell_type": "code",
      "metadata": {
        "id": "nWpk9DX6upnT",
        "colab_type": "code",
        "colab": {
          "base_uri": "https://localhost:8080/",
          "height": 163
        },
        "outputId": "6887fb20-90ea-49a4-cd0d-456df2dbfffb"
      },
      "source": [
        "id(y)"
      ],
      "execution_count": null,
      "outputs": [
        {
          "output_type": "error",
          "ename": "NameError",
          "evalue": "ignored",
          "traceback": [
            "\u001b[0;31m---------------------------------------------------------------------------\u001b[0m",
            "\u001b[0;31mNameError\u001b[0m                                 Traceback (most recent call last)",
            "\u001b[0;32m<ipython-input-67-e6babe6803e1>\u001b[0m in \u001b[0;36m<module>\u001b[0;34m()\u001b[0m\n\u001b[0;32m----> 1\u001b[0;31m \u001b[0mid\u001b[0m\u001b[0;34m(\u001b[0m\u001b[0my\u001b[0m\u001b[0;34m)\u001b[0m\u001b[0;34m\u001b[0m\u001b[0;34m\u001b[0m\u001b[0m\n\u001b[0m",
            "\u001b[0;31mNameError\u001b[0m: name 'y' is not defined"
          ]
        }
      ]
    },
    {
      "cell_type": "markdown",
      "metadata": {
        "id": "8jHQ-BYGnBB-",
        "colab_type": "text"
      },
      "source": [
        "#Python Operators"
      ]
    },
    {
      "cell_type": "markdown",
      "metadata": {
        "id": "wPgVM2cwnMGp",
        "colab_type": "text"
      },
      "source": [
        "**Python Arithmatic Operators**"
      ]
    },
    {
      "cell_type": "code",
      "metadata": {
        "id": "uhouBqK4urLN",
        "colab_type": "code",
        "colab": {
          "base_uri": "https://localhost:8080/",
          "height": 34
        },
        "outputId": "5230e5d2-406f-4cb4-9e5f-aa514cd0aa3a"
      },
      "source": [
        "##Exponent\n",
        "5**2"
      ],
      "execution_count": 1,
      "outputs": [
        {
          "output_type": "execute_result",
          "data": {
            "text/plain": [
              "25"
            ]
          },
          "metadata": {
            "tags": []
          },
          "execution_count": 1
        }
      ]
    },
    {
      "cell_type": "code",
      "metadata": {
        "id": "XkuxZHqtnetD",
        "colab_type": "code",
        "colab": {
          "base_uri": "https://localhost:8080/",
          "height": 34
        },
        "outputId": "f0b2cd7a-d7ac-4cae-9d0a-153e51cdb2d7"
      },
      "source": [
        "##Addition\n",
        "10+20"
      ],
      "execution_count": 2,
      "outputs": [
        {
          "output_type": "execute_result",
          "data": {
            "text/plain": [
              "30"
            ]
          },
          "metadata": {
            "tags": []
          },
          "execution_count": 2
        }
      ]
    },
    {
      "cell_type": "code",
      "metadata": {
        "id": "8hbxR3GanmFy",
        "colab_type": "code",
        "colab": {
          "base_uri": "https://localhost:8080/",
          "height": 34
        },
        "outputId": "add6e09b-d981-4b21-aa33-bb9743ced4a9"
      },
      "source": [
        "##Subtraction\n",
        "50-20"
      ],
      "execution_count": 3,
      "outputs": [
        {
          "output_type": "execute_result",
          "data": {
            "text/plain": [
              "30"
            ]
          },
          "metadata": {
            "tags": []
          },
          "execution_count": 3
        }
      ]
    },
    {
      "cell_type": "code",
      "metadata": {
        "id": "Y6jhiokjnrtG",
        "colab_type": "code",
        "colab": {
          "base_uri": "https://localhost:8080/",
          "height": 34
        },
        "outputId": "c5c5b0dc-a28e-440b-9e80-06e40e960a2d"
      },
      "source": [
        "##Modulus\n",
        "11%3"
      ],
      "execution_count": 7,
      "outputs": [
        {
          "output_type": "execute_result",
          "data": {
            "text/plain": [
              "2"
            ]
          },
          "metadata": {
            "tags": []
          },
          "execution_count": 7
        }
      ]
    },
    {
      "cell_type": "code",
      "metadata": {
        "id": "e9uYbCO9nwuO",
        "colab_type": "code",
        "colab": {
          "base_uri": "https://localhost:8080/",
          "height": 34
        },
        "outputId": "d2dd9b82-1a37-46c6-d63e-a12944438eae"
      },
      "source": [
        "##Divison\n",
        "10/3"
      ],
      "execution_count": 8,
      "outputs": [
        {
          "output_type": "execute_result",
          "data": {
            "text/plain": [
              "3.3333333333333335"
            ]
          },
          "metadata": {
            "tags": []
          },
          "execution_count": 8
        }
      ]
    },
    {
      "cell_type": "code",
      "metadata": {
        "id": "60fax9N6n3Pg",
        "colab_type": "code",
        "colab": {
          "base_uri": "https://localhost:8080/",
          "height": 34
        },
        "outputId": "acc09183-f694-4885-ed06-545548a35fa7"
      },
      "source": [
        "##Floor Divison\n",
        "10//3"
      ],
      "execution_count": 9,
      "outputs": [
        {
          "output_type": "execute_result",
          "data": {
            "text/plain": [
              "3"
            ]
          },
          "metadata": {
            "tags": []
          },
          "execution_count": 9
        }
      ]
    },
    {
      "cell_type": "markdown",
      "metadata": {
        "id": "miEIhhISoKvl",
        "colab_type": "text"
      },
      "source": [
        "**Comparison Operators**"
      ]
    },
    {
      "cell_type": "code",
      "metadata": {
        "id": "xOsQjuXyn9ey",
        "colab_type": "code",
        "colab": {
          "base_uri": "https://localhost:8080/",
          "height": 34
        },
        "outputId": "615a0b7b-8592-4056-a435-0a9b6377058a"
      },
      "source": [
        "a=10\n",
        "b=20\n",
        "a==b"
      ],
      "execution_count": 10,
      "outputs": [
        {
          "output_type": "execute_result",
          "data": {
            "text/plain": [
              "False"
            ]
          },
          "metadata": {
            "tags": []
          },
          "execution_count": 10
        }
      ]
    },
    {
      "cell_type": "code",
      "metadata": {
        "id": "1eezlcX_oSv1",
        "colab_type": "code",
        "colab": {
          "base_uri": "https://localhost:8080/",
          "height": 34
        },
        "outputId": "d250cf2d-c87b-4bef-9f5a-1ac1ef80316d"
      },
      "source": [
        "c=10\n",
        "a==c"
      ],
      "execution_count": 11,
      "outputs": [
        {
          "output_type": "execute_result",
          "data": {
            "text/plain": [
              "True"
            ]
          },
          "metadata": {
            "tags": []
          },
          "execution_count": 11
        }
      ]
    },
    {
      "cell_type": "code",
      "metadata": {
        "id": "mefL0RW3oVbY",
        "colab_type": "code",
        "colab": {
          "base_uri": "https://localhost:8080/",
          "height": 34
        },
        "outputId": "86b9d01c-eeea-4ca1-8c59-80ce0ccf8b1a"
      },
      "source": [
        "c<a"
      ],
      "execution_count": 12,
      "outputs": [
        {
          "output_type": "execute_result",
          "data": {
            "text/plain": [
              "False"
            ]
          },
          "metadata": {
            "tags": []
          },
          "execution_count": 12
        }
      ]
    },
    {
      "cell_type": "code",
      "metadata": {
        "id": "O2jaHjD5oXeP",
        "colab_type": "code",
        "colab": {
          "base_uri": "https://localhost:8080/",
          "height": 34
        },
        "outputId": "483c8e2b-88ab-4d4e-c575-0e12031bf875"
      },
      "source": [
        "c<=a"
      ],
      "execution_count": 13,
      "outputs": [
        {
          "output_type": "execute_result",
          "data": {
            "text/plain": [
              "True"
            ]
          },
          "metadata": {
            "tags": []
          },
          "execution_count": 13
        }
      ]
    },
    {
      "cell_type": "code",
      "metadata": {
        "id": "qwdJkQs5oZU-",
        "colab_type": "code",
        "colab": {
          "base_uri": "https://localhost:8080/",
          "height": 34
        },
        "outputId": "ad95083d-5266-4fc0-cf79-b92bb979d200"
      },
      "source": [
        "a>b"
      ],
      "execution_count": 14,
      "outputs": [
        {
          "output_type": "execute_result",
          "data": {
            "text/plain": [
              "False"
            ]
          },
          "metadata": {
            "tags": []
          },
          "execution_count": 14
        }
      ]
    },
    {
      "cell_type": "code",
      "metadata": {
        "id": "i3VRSYRNoc5S",
        "colab_type": "code",
        "colab": {
          "base_uri": "https://localhost:8080/",
          "height": 34
        },
        "outputId": "96b0f085-8924-43b9-b353-3d7938c68ad3"
      },
      "source": [
        "a>=b"
      ],
      "execution_count": 15,
      "outputs": [
        {
          "output_type": "execute_result",
          "data": {
            "text/plain": [
              "False"
            ]
          },
          "metadata": {
            "tags": []
          },
          "execution_count": 15
        }
      ]
    },
    {
      "cell_type": "code",
      "metadata": {
        "id": "CS1xTRsNofNN",
        "colab_type": "code",
        "colab": {
          "base_uri": "https://localhost:8080/",
          "height": 34
        },
        "outputId": "f52660ee-8687-4373-f534-549dbb826511"
      },
      "source": [
        "a!=b"
      ],
      "execution_count": 16,
      "outputs": [
        {
          "output_type": "execute_result",
          "data": {
            "text/plain": [
              "True"
            ]
          },
          "metadata": {
            "tags": []
          },
          "execution_count": 16
        }
      ]
    },
    {
      "cell_type": "markdown",
      "metadata": {
        "id": "dp0H6X8Tomin",
        "colab_type": "text"
      },
      "source": [
        "**Bitwise Operators**"
      ]
    },
    {
      "cell_type": "code",
      "metadata": {
        "id": "p72PG4froj3i",
        "colab_type": "code",
        "colab": {
          "base_uri": "https://localhost:8080/",
          "height": 34
        },
        "outputId": "bb27c78f-f6bd-4829-c20e-b1728554f070"
      },
      "source": [
        "a=240\n",
        "b=1\n",
        "a|b"
      ],
      "execution_count": 25,
      "outputs": [
        {
          "output_type": "execute_result",
          "data": {
            "text/plain": [
              "241"
            ]
          },
          "metadata": {
            "tags": []
          },
          "execution_count": 25
        }
      ]
    },
    {
      "cell_type": "code",
      "metadata": {
        "id": "OaynfgusoxKM",
        "colab_type": "code",
        "colab": {
          "base_uri": "https://localhost:8080/",
          "height": 34
        },
        "outputId": "44ccaf6f-b784-474f-ba8a-e078ae85b442"
      },
      "source": [
        "a&b"
      ],
      "execution_count": 26,
      "outputs": [
        {
          "output_type": "execute_result",
          "data": {
            "text/plain": [
              "0"
            ]
          },
          "metadata": {
            "tags": []
          },
          "execution_count": 26
        }
      ]
    },
    {
      "cell_type": "markdown",
      "metadata": {
        "id": "DfzRcYm5prXT",
        "colab_type": "text"
      },
      "source": [
        "**Logical Operators**"
      ]
    },
    {
      "cell_type": "code",
      "metadata": {
        "id": "en6MPJofpRbU",
        "colab_type": "code",
        "colab": {
          "base_uri": "https://localhost:8080/",
          "height": 34
        },
        "outputId": "293f50a5-252d-4814-d812-b58db3a47f57"
      },
      "source": [
        "a=20\n",
        "b=30\n",
        "a>40"
      ],
      "execution_count": 27,
      "outputs": [
        {
          "output_type": "execute_result",
          "data": {
            "text/plain": [
              "False"
            ]
          },
          "metadata": {
            "tags": []
          },
          "execution_count": 27
        }
      ]
    },
    {
      "cell_type": "code",
      "metadata": {
        "id": "S3UOu5Wgp_X_",
        "colab_type": "code",
        "colab": {
          "base_uri": "https://localhost:8080/",
          "height": 34
        },
        "outputId": "b92a98cc-549b-46b0-a2a4-ec784abc2bf8"
      },
      "source": [
        "a>40 or b<=30"
      ],
      "execution_count": 28,
      "outputs": [
        {
          "output_type": "execute_result",
          "data": {
            "text/plain": [
              "True"
            ]
          },
          "metadata": {
            "tags": []
          },
          "execution_count": 28
        }
      ]
    },
    {
      "cell_type": "code",
      "metadata": {
        "id": "phVQNiP5qRoA",
        "colab_type": "code",
        "colab": {
          "base_uri": "https://localhost:8080/",
          "height": 163
        },
        "outputId": "1141896d-f2d5-4c2f-a894-a26e404c62f8"
      },
      "source": [
        "10>9 and 20>M"
      ],
      "execution_count": 30,
      "outputs": [
        {
          "output_type": "error",
          "ename": "NameError",
          "evalue": "ignored",
          "traceback": [
            "\u001b[0;31m---------------------------------------------------------------------------\u001b[0m",
            "\u001b[0;31mNameError\u001b[0m                                 Traceback (most recent call last)",
            "\u001b[0;32m<ipython-input-30-9b6b05d7a0cf>\u001b[0m in \u001b[0;36m<module>\u001b[0;34m()\u001b[0m\n\u001b[0;32m----> 1\u001b[0;31m \u001b[0;36m10\u001b[0m\u001b[0;34m>\u001b[0m\u001b[0;36m9\u001b[0m \u001b[0;32mand\u001b[0m \u001b[0;36m20\u001b[0m\u001b[0;34m>\u001b[0m\u001b[0mM\u001b[0m\u001b[0;34m\u001b[0m\u001b[0;34m\u001b[0m\u001b[0m\n\u001b[0m",
            "\u001b[0;31mNameError\u001b[0m: name 'M' is not defined"
          ]
        }
      ]
    },
    {
      "cell_type": "code",
      "metadata": {
        "id": "Z2FJUoScqZoo",
        "colab_type": "code",
        "colab": {
          "base_uri": "https://localhost:8080/",
          "height": 34
        },
        "outputId": "f085a5be-12a3-4091-cf55-f1760c2240f7"
      },
      "source": [
        "10<9 and 20>M"
      ],
      "execution_count": 31,
      "outputs": [
        {
          "output_type": "execute_result",
          "data": {
            "text/plain": [
              "False"
            ]
          },
          "metadata": {
            "tags": []
          },
          "execution_count": 31
        }
      ]
    },
    {
      "cell_type": "code",
      "metadata": {
        "id": "jReROu2WqgOv",
        "colab_type": "code",
        "colab": {
          "base_uri": "https://localhost:8080/",
          "height": 34
        },
        "outputId": "875a3aff-3c8d-46a1-dbdf-449ddf9f8ebd"
      },
      "source": [
        "10<9"
      ],
      "execution_count": 32,
      "outputs": [
        {
          "output_type": "execute_result",
          "data": {
            "text/plain": [
              "False"
            ]
          },
          "metadata": {
            "tags": []
          },
          "execution_count": 32
        }
      ]
    },
    {
      "cell_type": "code",
      "metadata": {
        "id": "TlqwaqrKql1P",
        "colab_type": "code",
        "colab": {
          "base_uri": "https://localhost:8080/",
          "height": 34
        },
        "outputId": "4cb58407-6cb9-424c-a618-2c082dc29020"
      },
      "source": [
        "not 10<9"
      ],
      "execution_count": 33,
      "outputs": [
        {
          "output_type": "execute_result",
          "data": {
            "text/plain": [
              "True"
            ]
          },
          "metadata": {
            "tags": []
          },
          "execution_count": 33
        }
      ]
    },
    {
      "cell_type": "markdown",
      "metadata": {
        "id": "DTIDw9COqrf8",
        "colab_type": "text"
      },
      "source": [
        "**Membership Operators**"
      ]
    },
    {
      "cell_type": "code",
      "metadata": {
        "id": "qUUd-FGvqpDx",
        "colab_type": "code",
        "colab": {
          "base_uri": "https://localhost:8080/",
          "height": 34
        },
        "outputId": "020badca-6991-4791-9233-9e25b07c9c86"
      },
      "source": [
        "str1=\"pythonprogramming\"\n",
        "\"a\"in str1"
      ],
      "execution_count": 34,
      "outputs": [
        {
          "output_type": "execute_result",
          "data": {
            "text/plain": [
              "True"
            ]
          },
          "metadata": {
            "tags": []
          },
          "execution_count": 34
        }
      ]
    },
    {
      "cell_type": "code",
      "metadata": {
        "id": "ylEf4Wkjq3bj",
        "colab_type": "code",
        "colab": {
          "base_uri": "https://localhost:8080/",
          "height": 34
        },
        "outputId": "5a42cdb8-dd31-411e-cc64-314b91829f68"
      },
      "source": [
        "\"x\" in str1"
      ],
      "execution_count": 35,
      "outputs": [
        {
          "output_type": "execute_result",
          "data": {
            "text/plain": [
              "False"
            ]
          },
          "metadata": {
            "tags": []
          },
          "execution_count": 35
        }
      ]
    },
    {
      "cell_type": "code",
      "metadata": {
        "id": "2kqcOdYYq6iT",
        "colab_type": "code",
        "colab": {
          "base_uri": "https://localhost:8080/",
          "height": 34
        },
        "outputId": "22760ce5-032e-4426-eac2-937d00dc2fba"
      },
      "source": [
        "\"x\"not in str1"
      ],
      "execution_count": 36,
      "outputs": [
        {
          "output_type": "execute_result",
          "data": {
            "text/plain": [
              "True"
            ]
          },
          "metadata": {
            "tags": []
          },
          "execution_count": 36
        }
      ]
    },
    {
      "cell_type": "markdown",
      "metadata": {
        "id": "FhLzT76vq_hN",
        "colab_type": "text"
      },
      "source": [
        "**Identity Operators**"
      ]
    },
    {
      "cell_type": "code",
      "metadata": {
        "id": "5iybg_Vaq9OF",
        "colab_type": "code",
        "colab": {
          "base_uri": "https://localhost:8080/",
          "height": 34
        },
        "outputId": "6531ac82-f0ff-442e-c238-68d60a46d05c"
      },
      "source": [
        "a=10\n",
        "b=10\n",
        "a==b"
      ],
      "execution_count": 37,
      "outputs": [
        {
          "output_type": "execute_result",
          "data": {
            "text/plain": [
              "True"
            ]
          },
          "metadata": {
            "tags": []
          },
          "execution_count": 37
        }
      ]
    },
    {
      "cell_type": "code",
      "metadata": {
        "id": "bRXxnqvyrWSY",
        "colab_type": "code",
        "colab": {
          "base_uri": "https://localhost:8080/",
          "height": 34
        },
        "outputId": "0c0bd16f-eff8-4a70-ff86-40cfe82a185b"
      },
      "source": [
        "a is b"
      ],
      "execution_count": 38,
      "outputs": [
        {
          "output_type": "execute_result",
          "data": {
            "text/plain": [
              "True"
            ]
          },
          "metadata": {
            "tags": []
          },
          "execution_count": 38
        }
      ]
    },
    {
      "cell_type": "code",
      "metadata": {
        "id": "gcIPO5zArX-C",
        "colab_type": "code",
        "colab": {
          "base_uri": "https://localhost:8080/",
          "height": 34
        },
        "outputId": "ec700f9e-4f9a-4c33-fc50-17845523085b"
      },
      "source": [
        "id(a)"
      ],
      "execution_count": 39,
      "outputs": [
        {
          "output_type": "execute_result",
          "data": {
            "text/plain": [
              "10914784"
            ]
          },
          "metadata": {
            "tags": []
          },
          "execution_count": 39
        }
      ]
    },
    {
      "cell_type": "code",
      "metadata": {
        "id": "Ce1ga0_krZcw",
        "colab_type": "code",
        "colab": {
          "base_uri": "https://localhost:8080/",
          "height": 34
        },
        "outputId": "3cdbf1af-5454-4bd6-eec5-2fa2d0da546d"
      },
      "source": [
        "id(b)"
      ],
      "execution_count": 40,
      "outputs": [
        {
          "output_type": "execute_result",
          "data": {
            "text/plain": [
              "10914784"
            ]
          },
          "metadata": {
            "tags": []
          },
          "execution_count": 40
        }
      ]
    },
    {
      "cell_type": "code",
      "metadata": {
        "id": "aDre8m8yra5t",
        "colab_type": "code",
        "colab": {
          "base_uri": "https://localhost:8080/",
          "height": 34
        },
        "outputId": "9309cdd1-ae54-47cb-95d9-005f6c66edf5"
      },
      "source": [
        "x=1.5\n",
        "y=1.5\n",
        "x==y"
      ],
      "execution_count": 41,
      "outputs": [
        {
          "output_type": "execute_result",
          "data": {
            "text/plain": [
              "True"
            ]
          },
          "metadata": {
            "tags": []
          },
          "execution_count": 41
        }
      ]
    },
    {
      "cell_type": "code",
      "metadata": {
        "id": "lEGAY6lhrjli",
        "colab_type": "code",
        "colab": {
          "base_uri": "https://localhost:8080/",
          "height": 34
        },
        "outputId": "5d3a6b6d-35ce-411e-b822-2adce6fcbacf"
      },
      "source": [
        "x is y"
      ],
      "execution_count": 42,
      "outputs": [
        {
          "output_type": "execute_result",
          "data": {
            "text/plain": [
              "False"
            ]
          },
          "metadata": {
            "tags": []
          },
          "execution_count": 42
        }
      ]
    },
    {
      "cell_type": "code",
      "metadata": {
        "id": "TRTZsGdErl79",
        "colab_type": "code",
        "colab": {
          "base_uri": "https://localhost:8080/",
          "height": 34
        },
        "outputId": "c4502e6f-4df7-4dfe-fbf2-301ca78e1532"
      },
      "source": [
        "id(x)"
      ],
      "execution_count": 43,
      "outputs": [
        {
          "output_type": "execute_result",
          "data": {
            "text/plain": [
              "140287936440000"
            ]
          },
          "metadata": {
            "tags": []
          },
          "execution_count": 43
        }
      ]
    },
    {
      "cell_type": "code",
      "metadata": {
        "id": "8_Qo-MGlrpiW",
        "colab_type": "code",
        "colab": {
          "base_uri": "https://localhost:8080/",
          "height": 34
        },
        "outputId": "96224266-2d9a-4add-c10a-2853536c7a74"
      },
      "source": [
        "id(y)"
      ],
      "execution_count": 44,
      "outputs": [
        {
          "output_type": "execute_result",
          "data": {
            "text/plain": [
              "140287936440072"
            ]
          },
          "metadata": {
            "tags": []
          },
          "execution_count": 44
        }
      ]
    }
  ]
}