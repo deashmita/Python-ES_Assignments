{
  "nbformat": 4,
  "nbformat_minor": 0,
  "metadata": {
    "colab": {
      "name": "Batch6_Python_Assignment2.ipynb",
      "provenance": [],
      "collapsed_sections": [],
      "toc_visible": true,
      "authorship_tag": "ABX9TyM/swOuXAaCQXjTz5pwde7t",
      "include_colab_link": true
    },
    "kernelspec": {
      "name": "python3",
      "display_name": "Python 3"
    }
  },
  "cells": [
    {
      "cell_type": "markdown",
      "metadata": {
        "id": "view-in-github",
        "colab_type": "text"
      },
      "source": [
        "<a href=\"https://colab.research.google.com/github/deashmita/Python-ES_Assignments/blob/master/Batch6_Python_Assignment2_part1.ipynb\" target=\"_parent\"><img src=\"https://colab.research.google.com/assets/colab-badge.svg\" alt=\"Open In Colab\"/></a>"
      ]
    },
    {
      "cell_type": "markdown",
      "metadata": {
        "id": "d7vuJ4mTkldq",
        "colab_type": "text"
      },
      "source": [
        "# Basic Python Syantax"
      ]
    },
    {
      "cell_type": "markdown",
      "metadata": {
        "id": "uJDyOKN2lFap",
        "colab_type": "text"
      },
      "source": [
        "Back Slash"
      ]
    },
    {
      "cell_type": "code",
      "metadata": {
        "id": "tQ8S2YciksXR",
        "colab_type": "code",
        "colab": {
          "base_uri": "https://localhost:8080/",
          "height": 34
        },
        "outputId": "eb9f6ab8-72c4-48e2-d098-4d6d923c8bea"
      },
      "source": [
        "print(\"Hello \\\n",
        "Python\")"
      ],
      "execution_count": 7,
      "outputs": [
        {
          "output_type": "stream",
          "text": [
            "Hello Python\n"
          ],
          "name": "stdout"
        }
      ]
    },
    {
      "cell_type": "markdown",
      "metadata": {
        "id": "_3HmHBBRlUGd",
        "colab_type": "text"
      },
      "source": [
        "Triple Quotes"
      ]
    },
    {
      "cell_type": "code",
      "metadata": {
        "id": "Wmdm0nqulSF8",
        "colab_type": "code",
        "colab": {
          "base_uri": "https://localhost:8080/",
          "height": 238
        },
        "outputId": "3d1de5c0-a136-426a-bc9d-4888b0273804"
      },
      "source": [
        "print(\"\"\"   _( )__ _( )__ _( )__ _( )__ _( )__ _( )__ _( )__\n",
        " _|     _|     _|     _|     _|     _|     _|     _|\n",
        "(_   _ (_   _ (_   _ (_   _ (_   _ (_   _ (_   _ (_\n",
        " |__( )_|__( )_|__( )_|__( )_|__( )_|__( )_|__( )_|\n",
        " |_     |_     |_     |_     |_     |_     |_     |_\n",
        "  _) _   _) _   _) _   _) _   _) _   _) _   _) _   _)\n",
        " |__( )_|__( )_|__( )_|__( )_|__( )_|__( )_|__( )_|\n",
        " _|     _|     _|     _|     _|     _|     _|     _|\n",
        "(_   _ (_   _ (_   _ (_   _ (_   _ (_   _ (_   _ (_\n",
        " |__( )_|__( )_|__( )_|__( )_|__( )_|__( )_|__( )_|\n",
        " |_     |_     |_     |_     |_     |_     |_     |_\n",
        "  _) _   _) _   _) _   _) _   _) _   _) _   _) _mx _)\n",
        " |__( )_|__( )_|__( )_|__( )_|__( )_|__( )_|__( )_|\"\"\")"
      ],
      "execution_count": 8,
      "outputs": [
        {
          "output_type": "stream",
          "text": [
            "   _( )__ _( )__ _( )__ _( )__ _( )__ _( )__ _( )__\n",
            " _|     _|     _|     _|     _|     _|     _|     _|\n",
            "(_   _ (_   _ (_   _ (_   _ (_   _ (_   _ (_   _ (_\n",
            " |__( )_|__( )_|__( )_|__( )_|__( )_|__( )_|__( )_|\n",
            " |_     |_     |_     |_     |_     |_     |_     |_\n",
            "  _) _   _) _   _) _   _) _   _) _   _) _   _) _   _)\n",
            " |__( )_|__( )_|__( )_|__( )_|__( )_|__( )_|__( )_|\n",
            " _|     _|     _|     _|     _|     _|     _|     _|\n",
            "(_   _ (_   _ (_   _ (_   _ (_   _ (_   _ (_   _ (_\n",
            " |__( )_|__( )_|__( )_|__( )_|__( )_|__( )_|__( )_|\n",
            " |_     |_     |_     |_     |_     |_     |_     |_\n",
            "  _) _   _) _   _) _   _) _   _) _   _) _   _) _mx _)\n",
            " |__( )_|__( )_|__( )_|__( )_|__( )_|__( )_|__( )_|\n"
          ],
          "name": "stdout"
        }
      ]
    },
    {
      "cell_type": "markdown",
      "metadata": {
        "id": "mIq_nOgQl4hq",
        "colab_type": "text"
      },
      "source": [
        "String inside the quotes"
      ]
    },
    {
      "cell_type": "code",
      "metadata": {
        "id": "z4NvHhQMl2fU",
        "colab_type": "code",
        "colab": {
          "base_uri": "https://localhost:8080/",
          "height": 34
        },
        "outputId": "07eb8938-5899-485d-a80e-8464da0a3e35"
      },
      "source": [
        "print('Hello Python')"
      ],
      "execution_count": 9,
      "outputs": [
        {
          "output_type": "stream",
          "text": [
            "Hello Python\n"
          ],
          "name": "stdout"
        }
      ]
    },
    {
      "cell_type": "code",
      "metadata": {
        "id": "YCSv2LWxmFOn",
        "colab_type": "code",
        "colab": {
          "base_uri": "https://localhost:8080/",
          "height": 129
        },
        "outputId": "24c117d1-aebe-465b-967f-d1735b537823"
      },
      "source": [
        "print('Python's world')"
      ],
      "execution_count": 11,
      "outputs": [
        {
          "output_type": "error",
          "ename": "SyntaxError",
          "evalue": "ignored",
          "traceback": [
            "\u001b[0;36m  File \u001b[0;32m\"<ipython-input-11-98b624cce3c5>\"\u001b[0;36m, line \u001b[0;32m1\u001b[0m\n\u001b[0;31m    print('Python's world')\u001b[0m\n\u001b[0m                  ^\u001b[0m\n\u001b[0;31mSyntaxError\u001b[0m\u001b[0;31m:\u001b[0m invalid syntax\n"
          ]
        }
      ]
    },
    {
      "cell_type": "code",
      "metadata": {
        "id": "zAfpXcLZmMGU",
        "colab_type": "code",
        "colab": {
          "base_uri": "https://localhost:8080/",
          "height": 34
        },
        "outputId": "9cf456b7-e520-4dd1-b54c-70cddf17c983"
      },
      "source": [
        "print(\"Pyhton's World\")"
      ],
      "execution_count": 12,
      "outputs": [
        {
          "output_type": "stream",
          "text": [
            "Pyhton's World\n"
          ],
          "name": "stdout"
        }
      ]
    },
    {
      "cell_type": "markdown",
      "metadata": {
        "id": "PZ_SzXffmUGi",
        "colab_type": "text"
      },
      "source": [
        "Escape Sequence of String"
      ]
    },
    {
      "cell_type": "code",
      "metadata": {
        "id": "89IRJweWmVoL",
        "colab_type": "code",
        "colab": {
          "base_uri": "https://localhost:8080/",
          "height": 34
        },
        "outputId": "f6b9d833-db72-44af-859f-0ac1a0dbd281"
      },
      "source": [
        "print(\"Hello\\tPython\")"
      ],
      "execution_count": 13,
      "outputs": [
        {
          "output_type": "stream",
          "text": [
            "Hello\tPython\n"
          ],
          "name": "stdout"
        }
      ]
    },
    {
      "cell_type": "code",
      "metadata": {
        "id": "9jbGcM4WmjPT",
        "colab_type": "code",
        "colab": {
          "base_uri": "https://localhost:8080/",
          "height": 51
        },
        "outputId": "8548cd49-4629-4e64-b85e-4889d6f8c801"
      },
      "source": [
        "print(\"Hello\\nPython\")"
      ],
      "execution_count": 14,
      "outputs": [
        {
          "output_type": "stream",
          "text": [
            "Hello\n",
            "Python\n"
          ],
          "name": "stdout"
        }
      ]
    },
    {
      "cell_type": "code",
      "metadata": {
        "id": "gbgsfbD7mm8c",
        "colab_type": "code",
        "colab": {
          "base_uri": "https://localhost:8080/",
          "height": 34
        },
        "outputId": "90441394-fdc5-4dc0-c19b-349bb675fe5e"
      },
      "source": [
        "print('Python\\'s World')"
      ],
      "execution_count": 15,
      "outputs": [
        {
          "output_type": "stream",
          "text": [
            "Python's World\n"
          ],
          "name": "stdout"
        }
      ]
    },
    {
      "cell_type": "markdown",
      "metadata": {
        "id": "kyTFa-72m2eW",
        "colab_type": "text"
      },
      "source": [
        "Formatted Output "
      ]
    },
    {
      "cell_type": "code",
      "metadata": {
        "id": "IbP6crMImscz",
        "colab_type": "code",
        "colab": {
          "base_uri": "https://localhost:8080/",
          "height": 34
        },
        "outputId": "19755077-969c-4b5e-dbec-f1e56a1888d3"
      },
      "source": [
        "name=\"XYZ\"\n",
        "marks=90.867\n",
        "age=20\n",
        "\n",
        "print(\"The name of person is\",name,\"marks obtained by him is\",marks,\"and his age is\",age)"
      ],
      "execution_count": 43,
      "outputs": [
        {
          "output_type": "stream",
          "text": [
            "The name of person is XYZ marks obtained by him is 90.867 and his age is 20\n"
          ],
          "name": "stdout"
        }
      ]
    },
    {
      "cell_type": "code",
      "metadata": {
        "id": "sGn1q0CeravM",
        "colab_type": "code",
        "colab": {
          "base_uri": "https://localhost:8080/",
          "height": 34
        },
        "outputId": "15e1615e-5d65-48d3-e226-8c8eeeaa116d"
      },
      "source": [
        "print(\"the name of the person is %s marks obtained by him is %.2f age is %d\"%(name,marks,age))"
      ],
      "execution_count": 44,
      "outputs": [
        {
          "output_type": "stream",
          "text": [
            "the name of the person is XYZ marks obtained by him is 90.87 age is 20\n"
          ],
          "name": "stdout"
        }
      ]
    },
    {
      "cell_type": "code",
      "metadata": {
        "id": "M80sluE2nqyK",
        "colab_type": "code",
        "colab": {
          "base_uri": "https://localhost:8080/",
          "height": 34
        },
        "outputId": "141d7209-0cf1-41e4-ead0-6445ffa633b8"
      },
      "source": [
        "print(\"The name of person is %s and his age is %d\"%(name,age));"
      ],
      "execution_count": 45,
      "outputs": [
        {
          "output_type": "stream",
          "text": [
            "The name of person is XYZ and his age is 20\n"
          ],
          "name": "stdout"
        }
      ]
    },
    {
      "cell_type": "code",
      "metadata": {
        "id": "TYmIGLTGoUHo",
        "colab_type": "code",
        "colab": {
          "base_uri": "https://localhost:8080/",
          "height": 34
        },
        "outputId": "925b2dc2-731e-42d9-fce9-1bcc1a0a7c4c"
      },
      "source": [
        "print(\"The name of the person is %5s and the marks obtained by him is %5.2f\"%(name,marks))"
      ],
      "execution_count": 46,
      "outputs": [
        {
          "output_type": "stream",
          "text": [
            "The name of the person is   XYZ and the marks obtained by him is 90.87\n"
          ],
          "name": "stdout"
        }
      ]
    },
    {
      "cell_type": "markdown",
      "metadata": {
        "id": "IKHcbSzTrz2b",
        "colab_type": "text"
      },
      "source": [
        "f string(to replace %s,%f,%d)"
      ]
    },
    {
      "cell_type": "code",
      "metadata": {
        "id": "6Hhj1SQGrRZ-",
        "colab_type": "code",
        "colab": {
          "base_uri": "https://localhost:8080/",
          "height": 34
        },
        "outputId": "c4deb2a6-1354-44cf-9568-346d836b2a25"
      },
      "source": [
        "print(f\"The name of person is {name} marks obtained by him is {marks} and his age is {age}\")"
      ],
      "execution_count": 47,
      "outputs": [
        {
          "output_type": "stream",
          "text": [
            "The name of person is XYZ marks obtained by him is 90.867 and his age is 20\n"
          ],
          "name": "stdout"
        }
      ]
    },
    {
      "cell_type": "markdown",
      "metadata": {
        "id": "Tpq5Q3v1sWAk",
        "colab_type": "text"
      },
      "source": [
        "Python Variables and Assignment Statement"
      ]
    },
    {
      "cell_type": "code",
      "metadata": {
        "id": "PfpMrNzJsIiJ",
        "colab_type": "code",
        "colab": {
          "base_uri": "https://localhost:8080/",
          "height": 129
        },
        "outputId": "99fde74b-06ef-4ff6-9e9d-59d3f3d2dec1"
      },
      "source": [
        "10a=20"
      ],
      "execution_count": 48,
      "outputs": [
        {
          "output_type": "error",
          "ename": "SyntaxError",
          "evalue": "ignored",
          "traceback": [
            "\u001b[0;36m  File \u001b[0;32m\"<ipython-input-48-3b2001ca9f41>\"\u001b[0;36m, line \u001b[0;32m1\u001b[0m\n\u001b[0;31m    10a=20\u001b[0m\n\u001b[0m      ^\u001b[0m\n\u001b[0;31mSyntaxError\u001b[0m\u001b[0;31m:\u001b[0m invalid syntax\n"
          ]
        }
      ]
    },
    {
      "cell_type": "code",
      "metadata": {
        "id": "1DuCRc96sqdC",
        "colab_type": "code",
        "colab": {}
      },
      "source": [
        "a10=20"
      ],
      "execution_count": 49,
      "outputs": []
    },
    {
      "cell_type": "code",
      "metadata": {
        "id": "IyNtgk-LstK4",
        "colab_type": "code",
        "colab": {
          "base_uri": "https://localhost:8080/",
          "height": 34
        },
        "outputId": "3fdab3df-12c3-42b1-aa74-5e97d7bd67ef"
      },
      "source": [
        "print(a10)"
      ],
      "execution_count": 50,
      "outputs": [
        {
          "output_type": "stream",
          "text": [
            "20\n"
          ],
          "name": "stdout"
        }
      ]
    },
    {
      "cell_type": "code",
      "metadata": {
        "id": "qRu6bcl3sxR3",
        "colab_type": "code",
        "colab": {
          "base_uri": "https://localhost:8080/",
          "height": 129
        },
        "outputId": "6150a391-330e-49e8-b0a5-b436b5a72760"
      },
      "source": [
        "if=10"
      ],
      "execution_count": 51,
      "outputs": [
        {
          "output_type": "error",
          "ename": "SyntaxError",
          "evalue": "ignored",
          "traceback": [
            "\u001b[0;36m  File \u001b[0;32m\"<ipython-input-51-d804dbd42c9d>\"\u001b[0;36m, line \u001b[0;32m1\u001b[0m\n\u001b[0;31m    if=10\u001b[0m\n\u001b[0m      ^\u001b[0m\n\u001b[0;31mSyntaxError\u001b[0m\u001b[0;31m:\u001b[0m invalid syntax\n"
          ]
        }
      ]
    },
    {
      "cell_type": "code",
      "metadata": {
        "id": "uAkYUdT6s0az",
        "colab_type": "code",
        "colab": {}
      },
      "source": [
        "ifI=10"
      ],
      "execution_count": 52,
      "outputs": []
    },
    {
      "cell_type": "code",
      "metadata": {
        "id": "c4wiDfPLs3BM",
        "colab_type": "code",
        "colab": {
          "base_uri": "https://localhost:8080/",
          "height": 34
        },
        "outputId": "4cf5864b-77c1-4dcc-9ef4-27093fbf373c"
      },
      "source": [
        "print(ifI)"
      ],
      "execution_count": 53,
      "outputs": [
        {
          "output_type": "stream",
          "text": [
            "10\n"
          ],
          "name": "stdout"
        }
      ]
    },
    {
      "cell_type": "code",
      "metadata": {
        "id": "fVCb4al-s5Ay",
        "colab_type": "code",
        "colab": {
          "base_uri": "https://localhost:8080/",
          "height": 34
        },
        "outputId": "3f8868ed-ca41-45ea-fcea-375e53275a48"
      },
      "source": [
        "#Python Assignment Statement\n",
        "x=y=z=10\n",
        "print(x)"
      ],
      "execution_count": 54,
      "outputs": [
        {
          "output_type": "stream",
          "text": [
            "10\n"
          ],
          "name": "stdout"
        }
      ]
    },
    {
      "cell_type": "code",
      "metadata": {
        "id": "c0dx02QiuGBp",
        "colab_type": "code",
        "colab": {
          "base_uri": "https://localhost:8080/",
          "height": 34
        },
        "outputId": "c11ec43e-d6af-4027-8fb5-f6bd24e393c5"
      },
      "source": [
        "print(y)"
      ],
      "execution_count": 55,
      "outputs": [
        {
          "output_type": "stream",
          "text": [
            "10\n"
          ],
          "name": "stdout"
        }
      ]
    },
    {
      "cell_type": "code",
      "metadata": {
        "id": "uXk1cBC5uIW3",
        "colab_type": "code",
        "colab": {
          "base_uri": "https://localhost:8080/",
          "height": 34
        },
        "outputId": "aa904f8f-dc19-4f89-f63a-08ff4b8435c7"
      },
      "source": [
        "print(z)"
      ],
      "execution_count": 56,
      "outputs": [
        {
          "output_type": "stream",
          "text": [
            "10\n"
          ],
          "name": "stdout"
        }
      ]
    },
    {
      "cell_type": "code",
      "metadata": {
        "id": "nNJ0J1UDuKPl",
        "colab_type": "code",
        "colab": {}
      },
      "source": [
        "del x"
      ],
      "execution_count": 57,
      "outputs": []
    },
    {
      "cell_type": "code",
      "metadata": {
        "id": "efvoWdhPuQbW",
        "colab_type": "code",
        "colab": {}
      },
      "source": [
        "del y"
      ],
      "execution_count": 58,
      "outputs": []
    },
    {
      "cell_type": "code",
      "metadata": {
        "id": "vdPOiywauSEf",
        "colab_type": "code",
        "colab": {}
      },
      "source": [
        "del z"
      ],
      "execution_count": 59,
      "outputs": []
    },
    {
      "cell_type": "code",
      "metadata": {
        "id": "Tjqy8gGduTrE",
        "colab_type": "code",
        "colab": {
          "base_uri": "https://localhost:8080/",
          "height": 163
        },
        "outputId": "39ffdf9a-e974-41a6-8d0f-fbc8dc7375ca"
      },
      "source": [
        "print(x)"
      ],
      "execution_count": 60,
      "outputs": [
        {
          "output_type": "error",
          "ename": "NameError",
          "evalue": "ignored",
          "traceback": [
            "\u001b[0;31m---------------------------------------------------------------------------\u001b[0m",
            "\u001b[0;31mNameError\u001b[0m                                 Traceback (most recent call last)",
            "\u001b[0;32m<ipython-input-60-fc17d851ef81>\u001b[0m in \u001b[0;36m<module>\u001b[0;34m()\u001b[0m\n\u001b[0;32m----> 1\u001b[0;31m \u001b[0mprint\u001b[0m\u001b[0;34m(\u001b[0m\u001b[0mx\u001b[0m\u001b[0;34m)\u001b[0m\u001b[0;34m\u001b[0m\u001b[0;34m\u001b[0m\u001b[0m\n\u001b[0m",
            "\u001b[0;31mNameError\u001b[0m: name 'x' is not defined"
          ]
        }
      ]
    },
    {
      "cell_type": "code",
      "metadata": {
        "id": "i7A6-eGzuVrx",
        "colab_type": "code",
        "colab": {
          "base_uri": "https://localhost:8080/",
          "height": 34
        },
        "outputId": "1b061a21-8fb9-490c-99bf-466043223887"
      },
      "source": [
        "x=30\n",
        "y=30\n",
        "id(x)"
      ],
      "execution_count": 61,
      "outputs": [
        {
          "output_type": "execute_result",
          "data": {
            "text/plain": [
              "10915424"
            ]
          },
          "metadata": {
            "tags": []
          },
          "execution_count": 61
        }
      ]
    },
    {
      "cell_type": "code",
      "metadata": {
        "id": "rhbR3iF5ucIL",
        "colab_type": "code",
        "colab": {
          "base_uri": "https://localhost:8080/",
          "height": 34
        },
        "outputId": "e2f83db0-20a0-4efb-f057-1bc203b8ee39"
      },
      "source": [
        "id(y)"
      ],
      "execution_count": 62,
      "outputs": [
        {
          "output_type": "execute_result",
          "data": {
            "text/plain": [
              "10915424"
            ]
          },
          "metadata": {
            "tags": []
          },
          "execution_count": 62
        }
      ]
    },
    {
      "cell_type": "code",
      "metadata": {
        "id": "cs4HlO7Gudsx",
        "colab_type": "code",
        "colab": {}
      },
      "source": [
        "del x"
      ],
      "execution_count": 63,
      "outputs": []
    },
    {
      "cell_type": "code",
      "metadata": {
        "id": "WSPhL0BdukO5",
        "colab_type": "code",
        "colab": {
          "base_uri": "https://localhost:8080/",
          "height": 163
        },
        "outputId": "d8e61db3-5959-402e-f036-44ae64612250"
      },
      "source": [
        "id(x)"
      ],
      "execution_count": 64,
      "outputs": [
        {
          "output_type": "error",
          "ename": "NameError",
          "evalue": "ignored",
          "traceback": [
            "\u001b[0;31m---------------------------------------------------------------------------\u001b[0m",
            "\u001b[0;31mNameError\u001b[0m                                 Traceback (most recent call last)",
            "\u001b[0;32m<ipython-input-64-e3f71ffdf578>\u001b[0m in \u001b[0;36m<module>\u001b[0;34m()\u001b[0m\n\u001b[0;32m----> 1\u001b[0;31m \u001b[0mid\u001b[0m\u001b[0;34m(\u001b[0m\u001b[0mx\u001b[0m\u001b[0;34m)\u001b[0m\u001b[0;34m\u001b[0m\u001b[0;34m\u001b[0m\u001b[0m\n\u001b[0m",
            "\u001b[0;31mNameError\u001b[0m: name 'x' is not defined"
          ]
        }
      ]
    },
    {
      "cell_type": "code",
      "metadata": {
        "id": "69RayBKtumGv",
        "colab_type": "code",
        "colab": {
          "base_uri": "https://localhost:8080/",
          "height": 34
        },
        "outputId": "16473248-afa8-4250-8a13-a62b3b81cf09"
      },
      "source": [
        "id(y)"
      ],
      "execution_count": 65,
      "outputs": [
        {
          "output_type": "execute_result",
          "data": {
            "text/plain": [
              "10915424"
            ]
          },
          "metadata": {
            "tags": []
          },
          "execution_count": 65
        }
      ]
    },
    {
      "cell_type": "code",
      "metadata": {
        "id": "1JOjK5t9un3l",
        "colab_type": "code",
        "colab": {}
      },
      "source": [
        "del y"
      ],
      "execution_count": 66,
      "outputs": []
    },
    {
      "cell_type": "code",
      "metadata": {
        "id": "nWpk9DX6upnT",
        "colab_type": "code",
        "colab": {
          "base_uri": "https://localhost:8080/",
          "height": 163
        },
        "outputId": "6887fb20-90ea-49a4-cd0d-456df2dbfffb"
      },
      "source": [
        "id(y)"
      ],
      "execution_count": 67,
      "outputs": [
        {
          "output_type": "error",
          "ename": "NameError",
          "evalue": "ignored",
          "traceback": [
            "\u001b[0;31m---------------------------------------------------------------------------\u001b[0m",
            "\u001b[0;31mNameError\u001b[0m                                 Traceback (most recent call last)",
            "\u001b[0;32m<ipython-input-67-e6babe6803e1>\u001b[0m in \u001b[0;36m<module>\u001b[0;34m()\u001b[0m\n\u001b[0;32m----> 1\u001b[0;31m \u001b[0mid\u001b[0m\u001b[0;34m(\u001b[0m\u001b[0my\u001b[0m\u001b[0;34m)\u001b[0m\u001b[0;34m\u001b[0m\u001b[0;34m\u001b[0m\u001b[0m\n\u001b[0m",
            "\u001b[0;31mNameError\u001b[0m: name 'y' is not defined"
          ]
        }
      ]
    },
    {
      "cell_type": "code",
      "metadata": {
        "id": "uhouBqK4urLN",
        "colab_type": "code",
        "colab": {}
      },
      "source": [
        ""
      ],
      "execution_count": null,
      "outputs": []
    }
  ]
}