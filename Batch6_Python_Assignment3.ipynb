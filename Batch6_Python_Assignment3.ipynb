{
  "nbformat": 4,
  "nbformat_minor": 0,
  "metadata": {
    "colab": {
      "name": "Batch6_Python_Assignment3.ipynb",
      "provenance": [],
      "collapsed_sections": [],
      "toc_visible": true
    },
    "kernelspec": {
      "name": "python3",
      "display_name": "Python 3"
    }
  },
  "cells": [
    {
      "cell_type": "markdown",
      "metadata": {
        "id": "LxPfv6QT3cuq",
        "colab_type": "text"
      },
      "source": [
        "# Python ES_DAY 3_ASSIGNMENTS"
      ]
    },
    {
      "cell_type": "markdown",
      "metadata": {
        "id": "1mqftm803YZn",
        "colab_type": "text"
      },
      "source": [
        "**Take a integer and find out if it is a prime number or not**"
      ]
    },
    {
      "cell_type": "code",
      "metadata": {
        "id": "kovsnlk5wV_1",
        "colab_type": "code",
        "colab": {
          "base_uri": "https://localhost:8080/",
          "height": 51
        },
        "outputId": "82bc586f-1c5f-40c6-c663-9289696d9cbc"
      },
      "source": [
        "num = int(input(\"Enter a number: \"))   \n",
        "for i in range(2,num):  \n",
        "       if (num % i) == 0:  \n",
        "           print(num,\"is not a prime number\")  \n",
        "           break \n",
        "else:  \n",
        "       print(num,\"is a prime number\")  \n",
        "         \n"
      ],
      "execution_count": 27,
      "outputs": [
        {
          "output_type": "stream",
          "text": [
            "Enter a number: 3\n",
            "3 is a prime number\n"
          ],
          "name": "stdout"
        }
      ]
    },
    {
      "cell_type": "markdown",
      "metadata": {
        "id": "5qKeOs-O49-m",
        "colab_type": "text"
      },
      "source": [
        "**Sum of n numbers with the help of While loop**"
      ]
    },
    {
      "cell_type": "code",
      "metadata": {
        "id": "RdzJXUnH180O",
        "colab_type": "code",
        "colab": {
          "base_uri": "https://localhost:8080/",
          "height": 51
        },
        "outputId": "69113cd3-1b9a-45d6-fff0-397d39f5e3ea"
      },
      "source": [
        "num = int(input(\"Enter a number: \")) \n",
        "sum = 0   \n",
        "while(num > 0):  \n",
        "  sum=sum+num  \n",
        "  num=num-1  \n",
        "print(\"The sum is\",sum) "
      ],
      "execution_count": 33,
      "outputs": [
        {
          "output_type": "stream",
          "text": [
            "Enter a number: 10\n",
            "The sum is 55\n"
          ],
          "name": "stdout"
        }
      ]
    }
  ]
}