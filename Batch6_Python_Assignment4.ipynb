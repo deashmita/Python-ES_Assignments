{
  "nbformat": 4,
  "nbformat_minor": 0,
  "metadata": {
    "colab": {
      "name": "Batch6_Python_Assignment4.ipynb",
      "provenance": [],
      "collapsed_sections": []
    },
    "kernelspec": {
      "name": "python3",
      "display_name": "Python 3"
    }
  },
  "cells": [
    {
      "cell_type": "markdown",
      "metadata": {
        "id": "OPCXiIaXveCW",
        "colab_type": "text"
      },
      "source": [
        "Find all occurence of substring in the given string\n",
        "## \"what we think we become;we are Python Programmer\"\n",
        "Print the index values"
      ]
    },
    {
      "cell_type": "code",
      "metadata": {
        "id": "hh6HtnWhwX5c",
        "colab_type": "code",
        "colab": {
          "base_uri": "https://localhost:8080/",
          "height": 85
        },
        "outputId": "5c17e597-039a-4c1b-b35a-e311a0e0ba23"
      },
      "source": [
        "str1=\"what we think we become;we are Python Programmer\"\n",
        "sub=input(\"Enter the substring: \")\n",
        "for i in range(0,len(str1)-1):\n",
        "   if(str1[i]+str1[i+1])==sub:\n",
        "      print(i)\n",
        "      i=i+1"
      ],
      "execution_count": 37,
      "outputs": [
        {
          "output_type": "stream",
          "text": [
            "Enter the substring: we\n",
            "5\n",
            "14\n",
            "24\n"
          ],
          "name": "stdout"
        }
      ]
    },
    {
      "cell_type": "markdown",
      "metadata": {
        "id": "7RBIyAkYwYcF",
        "colab_type": "text"
      },
      "source": [
        "Explain using\n",
        "## islower() and isupper()\n",
        "with different kinds of strings"
      ]
    },
    {
      "cell_type": "markdown",
      "metadata": {
        "id": "bN_AK6uI0ER8",
        "colab_type": "text"
      },
      "source": [
        "**islower()**\n",
        "\n"
      ]
    },
    {
      "cell_type": "code",
      "metadata": {
        "id": "95Ii3qV1wznO",
        "colab_type": "code",
        "colab": {
          "base_uri": "https://localhost:8080/",
          "height": 34
        },
        "outputId": "4327e048-5a5c-4f57-b853-28330840bd5e"
      },
      "source": [
        "#case 1\n",
        "str1=\"Letsupgrade\"\n",
        "str1.islower()"
      ],
      "execution_count": 1,
      "outputs": [
        {
          "output_type": "execute_result",
          "data": {
            "text/plain": [
              "False"
            ]
          },
          "metadata": {
            "tags": []
          },
          "execution_count": 1
        }
      ]
    },
    {
      "cell_type": "code",
      "metadata": {
        "id": "NWxlzXZm3_36",
        "colab_type": "code",
        "colab": {
          "base_uri": "https://localhost:8080/",
          "height": 34
        },
        "outputId": "a095187b-f84a-438a-81b4-e121b8d4e65b"
      },
      "source": [
        "#case 2\n",
        "str2=\"letsupgrade\"\n",
        "str2.islower()"
      ],
      "execution_count": 2,
      "outputs": [
        {
          "output_type": "execute_result",
          "data": {
            "text/plain": [
              "True"
            ]
          },
          "metadata": {
            "tags": []
          },
          "execution_count": 2
        }
      ]
    },
    {
      "cell_type": "code",
      "metadata": {
        "id": "glP-6SWI4KbG",
        "colab_type": "code",
        "colab": {
          "base_uri": "https://localhost:8080/",
          "height": 34
        },
        "outputId": "0c3cec50-73b5-4399-ca34-48dfd43316b6"
      },
      "source": [
        "#case3\n",
        "str3=\"LetsUpgrade1\"\n",
        "str3.islower()"
      ],
      "execution_count": 3,
      "outputs": [
        {
          "output_type": "execute_result",
          "data": {
            "text/plain": [
              "False"
            ]
          },
          "metadata": {
            "tags": []
          },
          "execution_count": 3
        }
      ]
    },
    {
      "cell_type": "code",
      "metadata": {
        "id": "XA-fR2uw4X0o",
        "colab_type": "code",
        "colab": {
          "base_uri": "https://localhost:8080/",
          "height": 34
        },
        "outputId": "ec51eee3-8146-4a11-ca95-da00c1bd5383"
      },
      "source": [
        "#case4\n",
        "str4=\"12345\"\n",
        "str4.islower()"
      ],
      "execution_count": 4,
      "outputs": [
        {
          "output_type": "execute_result",
          "data": {
            "text/plain": [
              "False"
            ]
          },
          "metadata": {
            "tags": []
          },
          "execution_count": 4
        }
      ]
    },
    {
      "cell_type": "code",
      "metadata": {
        "id": "_6DCsHAF4eWK",
        "colab_type": "code",
        "colab": {
          "base_uri": "https://localhost:8080/",
          "height": 34
        },
        "outputId": "60e4ce38-f20b-4084-a0ce-630dd371eae6"
      },
      "source": [
        "#case5\n",
        "str5=\"LETSUPGRADE\"\n",
        "str5.islower()"
      ],
      "execution_count": 6,
      "outputs": [
        {
          "output_type": "execute_result",
          "data": {
            "text/plain": [
              "False"
            ]
          },
          "metadata": {
            "tags": []
          },
          "execution_count": 6
        }
      ]
    },
    {
      "cell_type": "code",
      "metadata": {
        "id": "T0hMBDVE4odD",
        "colab_type": "code",
        "colab": {
          "base_uri": "https://localhost:8080/",
          "height": 34
        },
        "outputId": "abc89149-4204-4779-b1fe-545de20e03da"
      },
      "source": [
        "#case6\n",
        "str6=\"letsupgrade1\"\n",
        "str6.islower()"
      ],
      "execution_count": 7,
      "outputs": [
        {
          "output_type": "execute_result",
          "data": {
            "text/plain": [
              "True"
            ]
          },
          "metadata": {
            "tags": []
          },
          "execution_count": 7
        }
      ]
    },
    {
      "cell_type": "markdown",
      "metadata": {
        "id": "qUG1oLeb49sH",
        "colab_type": "text"
      },
      "source": [
        "**isupper()**"
      ]
    },
    {
      "cell_type": "code",
      "metadata": {
        "id": "D3vzev8U42fU",
        "colab_type": "code",
        "colab": {
          "base_uri": "https://localhost:8080/",
          "height": 34
        },
        "outputId": "686fa182-00c8-4aa3-b319-823e41788014"
      },
      "source": [
        "#case1\n",
        "str1=\"Letsupgrade\"\n",
        "str1.isupper()"
      ],
      "execution_count": 8,
      "outputs": [
        {
          "output_type": "execute_result",
          "data": {
            "text/plain": [
              "False"
            ]
          },
          "metadata": {
            "tags": []
          },
          "execution_count": 8
        }
      ]
    },
    {
      "cell_type": "code",
      "metadata": {
        "id": "xz0bGm8k5Ijt",
        "colab_type": "code",
        "colab": {
          "base_uri": "https://localhost:8080/",
          "height": 34
        },
        "outputId": "732cebc1-e6d3-4810-9736-60eae0f61533"
      },
      "source": [
        "#case2\n",
        "str2=\"letsupgrade\"\n",
        "str2.isupper()"
      ],
      "execution_count": 9,
      "outputs": [
        {
          "output_type": "execute_result",
          "data": {
            "text/plain": [
              "False"
            ]
          },
          "metadata": {
            "tags": []
          },
          "execution_count": 9
        }
      ]
    },
    {
      "cell_type": "code",
      "metadata": {
        "id": "KxLDeEIl5SCg",
        "colab_type": "code",
        "colab": {
          "base_uri": "https://localhost:8080/",
          "height": 34
        },
        "outputId": "eab283d2-5d63-4e1a-b4e7-221adcbdb9a3"
      },
      "source": [
        "#case3\n",
        "str3=\"LetsUpgrade1\"\n",
        "str3.isupper()"
      ],
      "execution_count": 10,
      "outputs": [
        {
          "output_type": "execute_result",
          "data": {
            "text/plain": [
              "False"
            ]
          },
          "metadata": {
            "tags": []
          },
          "execution_count": 10
        }
      ]
    },
    {
      "cell_type": "code",
      "metadata": {
        "id": "0GDQkoK95Z0Y",
        "colab_type": "code",
        "colab": {
          "base_uri": "https://localhost:8080/",
          "height": 34
        },
        "outputId": "4664e8f4-7c88-413d-80ab-0f8cfb7d3ea3"
      },
      "source": [
        "#case4\n",
        "str4=\"12345\"\n",
        "str4.isupper()"
      ],
      "execution_count": 11,
      "outputs": [
        {
          "output_type": "execute_result",
          "data": {
            "text/plain": [
              "False"
            ]
          },
          "metadata": {
            "tags": []
          },
          "execution_count": 11
        }
      ]
    },
    {
      "cell_type": "code",
      "metadata": {
        "id": "aR1LI68j5gRe",
        "colab_type": "code",
        "colab": {
          "base_uri": "https://localhost:8080/",
          "height": 34
        },
        "outputId": "b3be490d-d792-4cfa-d4bb-4bbca70499c9"
      },
      "source": [
        "#case5\n",
        "str5=\"LETSUPGRADE\"\n",
        "str5.isupper()"
      ],
      "execution_count": 12,
      "outputs": [
        {
          "output_type": "execute_result",
          "data": {
            "text/plain": [
              "True"
            ]
          },
          "metadata": {
            "tags": []
          },
          "execution_count": 12
        }
      ]
    },
    {
      "cell_type": "code",
      "metadata": {
        "id": "rOPUSn4X5q9U",
        "colab_type": "code",
        "colab": {
          "base_uri": "https://localhost:8080/",
          "height": 34
        },
        "outputId": "9d6f4bda-9066-455f-840d-b3ff031d7a15"
      },
      "source": [
        "#case6\n",
        "str6=\"LETSUPGRADE1\"\n",
        "str6.isupper()"
      ],
      "execution_count": 14,
      "outputs": [
        {
          "output_type": "execute_result",
          "data": {
            "text/plain": [
              "True"
            ]
          },
          "metadata": {
            "tags": []
          },
          "execution_count": 14
        }
      ]
    },
    {
      "cell_type": "code",
      "metadata": {
        "id": "-pLxix1J5znd",
        "colab_type": "code",
        "colab": {}
      },
      "source": [
        ""
      ],
      "execution_count": null,
      "outputs": []
    }
  ]
}