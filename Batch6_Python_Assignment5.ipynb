{
  "nbformat": 4,
  "nbformat_minor": 0,
  "metadata": {
    "colab": {
      "name": "Batch6_Python_Assignment5.ipynb",
      "provenance": [],
      "collapsed_sections": [],
      "toc_visible": true
    },
    "kernelspec": {
      "name": "python3",
      "display_name": "Python 3"
    }
  },
  "cells": [
    {
      "cell_type": "markdown",
      "metadata": {
        "id": "LPJK5TQ8KU9P",
        "colab_type": "text"
      },
      "source": [
        "**Assignment 1**\n",
        "\n",
        "# [0,1,2,10,4,1,0,56,2,0,1,3,0,56,0,4]\n",
        "# Sort by increasing order but all zeros should be at the right hand side"
      ]
    },
    {
      "cell_type": "code",
      "metadata": {
        "id": "pYyrwNP1KROp",
        "colab_type": "code",
        "colab": {
          "base_uri": "https://localhost:8080/",
          "height": 51
        },
        "outputId": "480dc05c-43cf-4535-d154-b58a1a0e8207"
      },
      "source": [
        "list1=[0,1,2,10,4,1,0,56,2,0,1,3,0,56,0,4]\n",
        "list1.sort()\n",
        "del list1[0:5]\n",
        "list1.extend((0,0,0,0,0))\n",
        "print(\"The sorted list in increasing order\\nwhich have all zeros at the right hand side\",list1)"
      ],
      "execution_count": 50,
      "outputs": [
        {
          "output_type": "stream",
          "text": [
            "The sorted list in increasing order\n",
            "which have all zeros at the right hand side [1, 1, 1, 2, 2, 3, 4, 4, 10, 56, 56, 0, 0, 0, 0, 0]\n"
          ],
          "name": "stdout"
        }
      ]
    },
    {
      "cell_type": "markdown",
      "metadata": {
        "id": "m7U5vuXeQFSW",
        "colab_type": "text"
      },
      "source": [
        "**Assignment2**\n",
        "# list1=[10,20,40,60,70,80] sorted list\n",
        "# list 2=[5,15,25,35,45,60] sorted list\n",
        "# Merge these two sorted list to produce one sorted list,but use only loop either while or for only one time"
      ]
    },
    {
      "cell_type": "code",
      "metadata": {
        "id": "6_EffOBFQvre",
        "colab_type": "code",
        "colab": {
          "base_uri": "https://localhost:8080/",
          "height": 85
        },
        "outputId": "706bd7ee-07a9-4b2b-b3bb-b70a337b872d"
      },
      "source": [
        "list1=[10,20,40,60,70,80]\n",
        "list2=[5,15,25,35,45,60]\n",
        "print(\"The 1st original sorted list\",list1)\n",
        "print(\"The 2nd original sorted list\",list2)\n",
        "list3=list1+list2\n",
        "list4=[]\n",
        "list5=[]\n",
        "print(\"The merged list:\",list3)\n",
        "for i in range(0,12):\n",
        "      if list3[i]>=20:\n",
        "        list4.append(list3[i])\n",
        "        i=i+1\n",
        "      else:\n",
        "        list5.append(list3[i])\n",
        "        i=i+1\n",
        "list6=list5+list4\n",
        "list6.sort()\n",
        "print(\"The final sorted list is:\",list6)"
      ],
      "execution_count": 49,
      "outputs": [
        {
          "output_type": "stream",
          "text": [
            "The 1st original sorted list [10, 20, 40, 60, 70, 80]\n",
            "The 2nd original sorted list [5, 15, 25, 35, 45, 60]\n",
            "The merged list: [10, 20, 40, 60, 70, 80, 5, 15, 25, 35, 45, 60]\n",
            "The final sorted list is: [5, 10, 15, 20, 25, 35, 40, 45, 60, 60, 70, 80]\n"
          ],
          "name": "stdout"
        }
      ]
    },
    {
      "cell_type": "code",
      "metadata": {
        "id": "UsVO_mg4dspK",
        "colab_type": "code",
        "colab": {}
      },
      "source": [
        ""
      ],
      "execution_count": null,
      "outputs": []
    }
  ]
}