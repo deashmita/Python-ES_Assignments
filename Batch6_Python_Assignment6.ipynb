{
  "nbformat": 4,
  "nbformat_minor": 0,
  "metadata": {
    "colab": {
      "name": "Batch6_Python_Assignment6.ipynb",
      "provenance": [],
      "collapsed_sections": []
    },
    "kernelspec": {
      "name": "python3",
      "display_name": "Python 3"
    }
  },
  "cells": [
    {
      "cell_type": "markdown",
      "metadata": {
        "id": "GweP8KOxyfP5",
        "colab_type": "text"
      },
      "source": [
        "## List1=[1,2,3,4,5,7,8]\n",
        "## List2=[\"a\",\"b\",\"c\",\"d\",\"e\"]\n",
        "**Convert to a dictionary in one line code using list comprehension(without using zip method**"
      ]
    },
    {
      "cell_type": "code",
      "metadata": {
        "id": "JYkYd6ztzH8A",
        "colab_type": "code",
        "colab": {
          "base_uri": "https://localhost:8080/",
          "height": 34
        },
        "outputId": "9e58a53a-14d8-4244-a65f-c5577396ded2"
      },
      "source": [
        "list1=[1,2,3,4,5,7,8]\n",
        "list2=[\"a\",\"b\",\"c\",\"d\",\"e\"]\n",
        "len1=min(len(list1),len(list2))\n",
        "dict1={}\n",
        "print({  list1[each]  :  list2[each]                for each in range(len1)          })"
      ],
      "execution_count": 10,
      "outputs": [
        {
          "output_type": "stream",
          "text": [
            "{1: 'a', 2: 'b', 3: 'c', 4: 'd', 5: 'e'}\n"
          ],
          "name": "stdout"
        }
      ]
    },
    {
      "cell_type": "code",
      "metadata": {
        "id": "Go5h5Stizsog",
        "colab_type": "code",
        "colab": {}
      },
      "source": [
        ""
      ],
      "execution_count": null,
      "outputs": []
    }
  ]
}