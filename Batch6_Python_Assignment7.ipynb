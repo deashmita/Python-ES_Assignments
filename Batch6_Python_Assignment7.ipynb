{
  "nbformat": 4,
  "nbformat_minor": 0,
  "metadata": {
    "colab": {
      "name": "Batch6_Python_Assignment7.ipynb",
      "provenance": [],
      "collapsed_sections": []
    },
    "kernelspec": {
      "name": "python3",
      "display_name": "Python 3"
    }
  },
  "cells": [
    {
      "cell_type": "markdown",
      "metadata": {
        "id": "h9H_nFct5RXy",
        "colab_type": "text"
      },
      "source": [
        "## **Question 1**\n",
        "### Use the dictionary, \n",
        "### port1 = {21: \"FTP\", 22:\"SSH\", 23: \"telnet\", 80: \"http\"}\n",
        "### and make a new dictionary in which keys become values and values become keys, as shown: \n",
        "### port2 = {“FTP\":21, \"SSH\":22, “telnet\":23,\"http\": 80}"
      ]
    },
    {
      "cell_type": "code",
      "metadata": {
        "id": "zR-hPCrE7F0C",
        "colab_type": "code",
        "colab": {
          "base_uri": "https://localhost:8080/",
          "height": 34
        },
        "outputId": "36fa5ee5-8f5e-46c6-8521-f58d821edfd9"
      },
      "source": [
        "port1={21: \"FTP\", 22:\"SSH\", 23: \"telnet\", 80: \"http\"}\n",
        "port2={value:key for key,value in port1.items()}\n",
        "print(\"The final dictionary by swapping key and values\",port2)"
      ],
      "execution_count": 11,
      "outputs": [
        {
          "output_type": "stream",
          "text": [
            "The final dictionary by swapping key and values {'FTP': 21, 'SSH': 22, 'telnet': 23, 'http': 80}\n"
          ],
          "name": "stdout"
        }
      ]
    },
    {
      "cell_type": "markdown",
      "metadata": {
        "id": "E7-gdmGM5T8E",
        "colab_type": "text"
      },
      "source": [
        "# **Question 2**\n",
        "### Take a list of tuple as shown below.\n",
        "### [(1,2), (3,4), (5,6),(4,5)]\n",
        "### Make a new list which contains sum of number of tuples. \n",
        "## For example \n",
        "## Input \n",
        "## [(1,2), (3,4), (5,6)]\n",
        "## Out put \n",
        "## [3, 7, 11]"
      ]
    },
    {
      "cell_type": "code",
      "metadata": {
        "id": "fiUs389R-NkO",
        "colab_type": "code",
        "colab": {
          "base_uri": "https://localhost:8080/",
          "height": 34
        },
        "outputId": "0750f478-e823-4a20-ddc6-740f5010fae6"
      },
      "source": [
        "list1=[(1,2), (3,4), (5,6),(4,5)]\n",
        "list2=[]\n",
        "for each in range(0,4):\n",
        "  a,b=list1[each]\n",
        "  list2.append(a+b)\n",
        "print(\"The final output is\",list2)"
      ],
      "execution_count": 14,
      "outputs": [
        {
          "output_type": "stream",
          "text": [
            "The final output is [3, 7, 11, 9]\n"
          ],
          "name": "stdout"
        }
      ]
    },
    {
      "cell_type": "markdown",
      "metadata": {
        "id": "xwPnzJL_5Uyv",
        "colab_type": "text"
      },
      "source": [
        "# **Question 3**\n",
        "## Take a list as shown below \n",
        "## [(1,2,3), [1,2], ['a','hit','less']]\n",
        "## The List contains tuple and lists. Make the elements of inner lists and tuples to outer list"
      ]
    },
    {
      "cell_type": "code",
      "metadata": {
        "id": "Ym3TO8uF_dwd",
        "colab_type": "code",
        "colab": {
          "base_uri": "https://localhost:8080/",
          "height": 34
        },
        "outputId": "b08475d9-660a-4bdd-97c3-4a3c0fe2beaa"
      },
      "source": [
        "list1=[(1,2,3), [1,2], ['a','hit','less']]\n",
        "list2=[]\n",
        "list2=[i for each in list1 for i in each]\n",
        "print(\"The final list is\",list2)"
      ],
      "execution_count": 31,
      "outputs": [
        {
          "output_type": "stream",
          "text": [
            "The final list is [1, 2, 3, 1, 2, 'a', 'hit', 'less']\n"
          ],
          "name": "stdout"
        }
      ]
    }
  ]
}